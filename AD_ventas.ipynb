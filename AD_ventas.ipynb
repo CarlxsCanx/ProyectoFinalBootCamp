{
  "cells": [
    {
      "cell_type": "raw",
      "id": "abbd2265",
      "metadata": {},
      "source": [
        "---\n",
        "title: \"Analisis del crecimiento a traves de los ultimos años de una empresa en operaciòn.\"\n",
        "format: html\n",
        "geometry:\n",
        "      - top=30mm\n",
        "      - left=20mm\n",
        "      - heightrounded\n",
        "---"
      ]
    },
    {
      "cell_type": "markdown",
      "id": "061d118a",
      "metadata": {},
      "source": [
        "autor:  \n",
        "Carlos Cano\n",
        "github: CxrlxsCxnx\n"
      ]
    },
    {
      "cell_type": "markdown",
      "id": "9fae113a",
      "metadata": {},
      "source": [
        "# Importando librerias \n",
        "\n",
        "\n",
        "Se realiza la importacion de librerias con las cuales estaremos trabajando durante el analisis de datos.\n"
      ]
    },
    {
      "cell_type": "code",
      "execution_count": 78,
      "id": "2118bc26",
      "metadata": {},
      "outputs": [],
      "source": [
        "from datetime import datetime\n",
        "import glob\n",
        "import json\n",
        "import os\n",
        "from pathlib import Path\n",
        "import re\n",
        "\n",
        "from IPython.display import HTML, display, Image\n",
        "import matplotlib\n",
        "import matplotlib.pyplot as plt\n",
        "from matplotlib import cm\n",
        "import missingno as msno\n",
        "import numpy as np\n",
        "import pandas as pd\n",
        "import seaborn as sns\n",
        "import altair as alt\n",
        "import calendar\n",
        "\n",
        "\n",
        "import streamlit as st"
      ]
    },
    {
      "cell_type": "markdown",
      "id": "59151f1d",
      "metadata": {},
      "source": [
        "# Lectura de los datos.\n"
      ]
    },
    {
      "cell_type": "code",
      "execution_count": 79,
      "id": "ce034c53",
      "metadata": {},
      "outputs": [
        {
          "data": {
            "text/plain": [
              "[PosixPath('Data/FACTURAS03.csv'),\n",
              " PosixPath('Data/FACTURAS02.csv'),\n",
              " PosixPath('Data/FACTURAS01.csv')]"
            ]
          },
          "execution_count": 79,
          "metadata": {},
          "output_type": "execute_result"
        }
      ],
      "source": [
        "#echo|True\n",
        "route = \"./Data\"\n",
        "files = [ Path(i) for i in glob.glob(f'{route}/*.csv') ]\n",
        "files"
      ]
    },
    {
      "cell_type": "code",
      "execution_count": 80,
      "id": "debe8c3b",
      "metadata": {},
      "outputs": [],
      "source": [
        "#echo : True\n",
        "dfs = []\n",
        "for csv in files:\n",
        "    df = pd.read_csv(csv, delimiter= ',')\n",
        "    dfs.append(df)"
      ]
    },
    {
      "cell_type": "markdown",
      "id": "7faef412",
      "metadata": {},
      "source": [
        "Ignoramos los indices al concatenar para no recibir indices repetidos\n"
      ]
    },
    {
      "cell_type": "code",
      "execution_count": 81,
      "id": "4af694be",
      "metadata": {},
      "outputs": [],
      "source": [
        "data = pd.concat(dfs, ignore_index= True)"
      ]
    },
    {
      "cell_type": "markdown",
      "id": "567fce12",
      "metadata": {},
      "source": [
        "## Creamos una data redefinida con los valores que nos interesan.\n"
      ]
    },
    {
      "cell_type": "code",
      "execution_count": 82,
      "id": "c4bb89bd",
      "metadata": {},
      "outputs": [],
      "source": [
        "#echo : True\n",
        "data = data[['Fecha','Razón Social', 'Total', 'Cancelado', 'Nombre de la Moneda', 'Nombre del agente']]\n",
        "\n",
        "data.Fecha = pd.to_datetime(data.Fecha,format = 'mixed')"
      ]
    },
    {
      "cell_type": "markdown",
      "id": "ea57b019",
      "metadata": {},
      "source": [
        "### Eliminamos valores nulos.\n",
        "Comparamos y eliminamos valores nulos si existen dentro de la data correspondiente, en caso de que no sean de nuestro interes y no afecten los resultados de nuestro analisis, los conservamos.\n"
      ]
    },
    {
      "cell_type": "code",
      "execution_count": 83,
      "id": "792aad55",
      "metadata": {},
      "outputs": [
        {
          "data": {
            "text/plain": [
              "3566"
            ]
          },
          "metadata": {},
          "output_type": "display_data"
        },
        {
          "data": {
            "text/plain": [
              "3564"
            ]
          },
          "metadata": {},
          "output_type": "display_data"
        }
      ],
      "source": [
        "#echo : True\n",
        "display(data.index.size)\n",
        "display(data.dropna().index.size)"
      ]
    },
    {
      "cell_type": "code",
      "execution_count": 84,
      "id": "798dfa0e",
      "metadata": {},
      "outputs": [
        {
          "name": "stdout",
          "output_type": "stream",
          "text": [
            "<class 'pandas.core.frame.DataFrame'>\n",
            "RangeIndex: 3566 entries, 0 to 3565\n",
            "Data columns (total 6 columns):\n",
            " #   Column               Non-Null Count  Dtype         \n",
            "---  ------               --------------  -----         \n",
            " 0   Fecha                3566 non-null   datetime64[ns]\n",
            " 1   Razón Social         3566 non-null   object        \n",
            " 2   Total                3566 non-null   float64       \n",
            " 3   Cancelado            3566 non-null   int64         \n",
            " 4   Nombre de la Moneda  3566 non-null   object        \n",
            " 5   Nombre del agente    3564 non-null   object        \n",
            "dtypes: datetime64[ns](1), float64(1), int64(1), object(3)\n",
            "memory usage: 167.3+ KB\n"
          ]
        },
        {
          "data": {
            "text/plain": [
              "None"
            ]
          },
          "metadata": {},
          "output_type": "display_data"
        }
      ],
      "source": [
        "display(data.info())"
      ]
    },
    {
      "cell_type": "markdown",
      "id": "98f0a0fd",
      "metadata": {},
      "source": [
        "```{python]\n",
        "msno.matrix(data)\n",
        "msno.bar(data.sample(frac = 0.1))\n",
        "```\n",
        "\n"
      ]
    },
    {
      "cell_type": "markdown",
      "id": "a2f1d75c",
      "metadata": {},
      "source": [
        "### Data Ventas Mxn, Quitando facturas canceladas.º"
      ]
    },
    {
      "cell_type": "code",
      "execution_count": 85,
      "id": "1b974931",
      "metadata": {},
      "outputs": [
        {
          "name": "stderr",
          "output_type": "stream",
          "text": [
            "/tmp/ipykernel_5192/1176312956.py:2: SettingWithCopyWarning: \n",
            "A value is trying to be set on a copy of a slice from a DataFrame.\n",
            "Try using .loc[row_indexer,col_indexer] = value instead\n",
            "\n",
            "See the caveats in the documentation: https://pandas.pydata.org/pandas-docs/stable/user_guide/indexing.html#returning-a-view-versus-a-copy\n",
            "  data_mxn.Total = data.Total.astype(float)\n"
          ]
        }
      ],
      "source": [
        "data_mxn = data[(data['Nombre de la Moneda'] == \"Peso Mexicano\") & (data['Cancelado'] == 0)]\n",
        "data_mxn.Total = data.Total.astype(float)\n",
        "\n",
        "grupo_Clientes_Venta = data_mxn.groupby('Razón Social')['Total'].sum()\n",
        "clientes_venta_sorting = grupo_Clientes_Venta.sort_values(ascending= False).reset_index().head(30)"
      ]
    },
    {
      "cell_type": "markdown",
      "id": "eb68e96e",
      "metadata": {},
      "source": [
        "### Data Ventas dolares.\n"
      ]
    },
    {
      "cell_type": "code",
      "execution_count": 86,
      "id": "f9fceb95",
      "metadata": {},
      "outputs": [
        {
          "data": {
            "text/plain": [
              "(43, 6)"
            ]
          },
          "execution_count": 86,
          "metadata": {},
          "output_type": "execute_result"
        }
      ],
      "source": [
        "data_Dls = data[(data['Nombre de la Moneda'] == \"Dólar Americano\") & (data['Cancelado'] == 0)]\n",
        "data_Dls.shape"
      ]
    },
    {
      "cell_type": "markdown",
      "id": "22ade332",
      "metadata": {},
      "source": [
        "### ¿Quien nos compra más?\n"
      ]
    },
    {
      "cell_type": "markdown",
      "id": "43a8532c",
      "metadata": {},
      "source": [
        "Se agrupan los clientes y los totales de compras que han realizado así se puede obtener\n",
        "una vista general de cuantos ingresos se han obtenido de cada uno de ellos y cuales son nuestros clientes más importantes."
      ]
    },
    {
      "cell_type": "code",
      "execution_count": 87,
      "id": "9980aaa5",
      "metadata": {},
      "outputs": [],
      "source": [
        "grupo_Clientes_Venta = data_mxn.groupby('Razón Social')['Total'].sum()"
      ]
    },
    {
      "cell_type": "code",
      "execution_count": 88,
      "id": "aea59435",
      "metadata": {},
      "outputs": [],
      "source": [
        "clientes_venta_sorting = grupo_Clientes_Venta.sort_values(ascending= False).reset_index().head(30)"
      ]
    },
    {
      "cell_type": "markdown",
      "id": "dda725db",
      "metadata": {},
      "source": [
        "Se crea una grafica con altair sobre el grupo realizado anteriormente."
      ]
    },
    {
      "cell_type": "code",
      "execution_count": 89,
      "id": "d773dfe3",
      "metadata": {},
      "outputs": [
        {
          "data": {
            "text/html": [
              "\n",
              "<style>\n",
              "  #altair-viz-2d053625dc06480a93b3e14a1de67f67.vega-embed {\n",
              "    width: 100%;\n",
              "    display: flex;\n",
              "  }\n",
              "\n",
              "  #altair-viz-2d053625dc06480a93b3e14a1de67f67.vega-embed details,\n",
              "  #altair-viz-2d053625dc06480a93b3e14a1de67f67.vega-embed details summary {\n",
              "    position: relative;\n",
              "  }\n",
              "</style>\n",
              "<div id=\"altair-viz-2d053625dc06480a93b3e14a1de67f67\"></div>\n",
              "<script type=\"text/javascript\">\n",
              "  var VEGA_DEBUG = (typeof VEGA_DEBUG == \"undefined\") ? {} : VEGA_DEBUG;\n",
              "  (function(spec, embedOpt){\n",
              "    let outputDiv = document.currentScript.previousElementSibling;\n",
              "    if (outputDiv.id !== \"altair-viz-2d053625dc06480a93b3e14a1de67f67\") {\n",
              "      outputDiv = document.getElementById(\"altair-viz-2d053625dc06480a93b3e14a1de67f67\");\n",
              "    }\n",
              "    const paths = {\n",
              "      \"vega\": \"https://cdn.jsdelivr.net/npm/vega@5?noext\",\n",
              "      \"vega-lib\": \"https://cdn.jsdelivr.net/npm/vega-lib?noext\",\n",
              "      \"vega-lite\": \"https://cdn.jsdelivr.net/npm/vega-lite@5.15.1?noext\",\n",
              "      \"vega-embed\": \"https://cdn.jsdelivr.net/npm/vega-embed@6?noext\",\n",
              "    };\n",
              "\n",
              "    function maybeLoadScript(lib, version) {\n",
              "      var key = `${lib.replace(\"-\", \"\")}_version`;\n",
              "      return (VEGA_DEBUG[key] == version) ?\n",
              "        Promise.resolve(paths[lib]) :\n",
              "        new Promise(function(resolve, reject) {\n",
              "          var s = document.createElement('script');\n",
              "          document.getElementsByTagName(\"head\")[0].appendChild(s);\n",
              "          s.async = true;\n",
              "          s.onload = () => {\n",
              "            VEGA_DEBUG[key] = version;\n",
              "            return resolve(paths[lib]);\n",
              "          };\n",
              "          s.onerror = () => reject(`Error loading script: ${paths[lib]}`);\n",
              "          s.src = paths[lib];\n",
              "        });\n",
              "    }\n",
              "\n",
              "    function showError(err) {\n",
              "      outputDiv.innerHTML = `<div class=\"error\" style=\"color:red;\">${err}</div>`;\n",
              "      throw err;\n",
              "    }\n",
              "\n",
              "    function displayChart(vegaEmbed) {\n",
              "      vegaEmbed(outputDiv, spec, embedOpt)\n",
              "        .catch(err => showError(`Javascript Error: ${err.message}<br>This usually means there's a typo in your chart specification. See the javascript console for the full traceback.`));\n",
              "    }\n",
              "\n",
              "    if(typeof define === \"function\" && define.amd) {\n",
              "      requirejs.config({paths});\n",
              "      require([\"vega-embed\"], displayChart, err => showError(`Error loading script: ${err.message}`));\n",
              "    } else {\n",
              "      maybeLoadScript(\"vega\", \"5\")\n",
              "        .then(() => maybeLoadScript(\"vega-lite\", \"5.15.1\"))\n",
              "        .then(() => maybeLoadScript(\"vega-embed\", \"6\"))\n",
              "        .catch(showError)\n",
              "        .then(() => displayChart(vegaEmbed));\n",
              "    }\n",
              "  })({\"config\": {\"view\": {\"continuousWidth\": 300, \"continuousHeight\": 300}}, \"layer\": [{\"mark\": {\"type\": \"bar\"}, \"encoding\": {\"x\": {\"field\": \"Total\", \"title\": \"Ventas Totales\", \"type\": \"quantitative\"}, \"y\": {\"field\": \"Raz\\u00f3n Social\", \"title\": \"Clientes\", \"type\": \"ordinal\"}}}, {\"mark\": {\"type\": \"text\", \"align\": \"left\", \"dx\": 0}, \"encoding\": {\"x\": {\"field\": \"Total\", \"title\": \"Ventas Totales\", \"type\": \"quantitative\"}, \"y\": {\"field\": \"Raz\\u00f3n Social\", \"title\": \"Clientes\", \"type\": \"ordinal\"}}}], \"data\": {\"name\": \"data-e17e9ea645872aef8ffdd1c61d325d3b\"}, \"width\": 350, \"$schema\": \"https://vega.github.io/schema/vega-lite/v5.15.1.json\", \"datasets\": {\"data-e17e9ea645872aef8ffdd1c61d325d3b\": [{\"Raz\\u00f3n Social\": \"SAGOT\", \"Total\": 7042270.03}, {\"Raz\\u00f3n Social\": \"INMOBILIARIA LLUNA\", \"Total\": 3704479.16}, {\"Raz\\u00f3n Social\": \"GERARDO ARREDONDO HERNANDEZ\", \"Total\": 2008841.0899999999}, {\"Raz\\u00f3n Social\": \"INSTITUTO DEL BAJIO\", \"Total\": 1876324.96}, {\"Raz\\u00f3n Social\": \"FUJITA CORPORATION\", \"Total\": 1543112.97}, {\"Raz\\u00f3n Social\": \"PRODUCTOS FRUGO\", \"Total\": 1424324.08}, {\"Raz\\u00f3n Social\": \"ESCUELA PREPARATORIA LUIS SPOTA\", \"Total\": 884413.46}, {\"Raz\\u00f3n Social\": \"VITABAJIO\", \"Total\": 454857.62}, {\"Raz\\u00f3n Social\": \"IQFRESH TRANSPORT\", \"Total\": 425182.25}, {\"Raz\\u00f3n Social\": \"DISTRIBUIDORA DE MATERIALES TRIANGULO\", \"Total\": 418021.08}, {\"Raz\\u00f3n Social\": \"FRUGALMEX\", \"Total\": 411895.39999999997}, {\"Raz\\u00f3n Social\": \"REDWINGS\", \"Total\": 400901.84}, {\"Raz\\u00f3n Social\": \"INSTITUTO DE INNOVACION\", \"Total\": 360000.0}, {\"Raz\\u00f3n Social\": \"MIICA\", \"Total\": 332997.5}, {\"Raz\\u00f3n Social\": \"ASOCIACION EDUCATIVA DE SALAMANCA\", \"Total\": 331561.82}, {\"Raz\\u00f3n Social\": \"INELBIO \", \"Total\": 292882.87}, {\"Raz\\u00f3n Social\": \"ESTRATEGIAS FINANCIERAS Y DE PROTECCION PATRIMONIAL UNIR\", \"Total\": 246620.06}, {\"Raz\\u00f3n Social\": \"TSO Y ASOCIADOS\", \"Total\": 244796.98}, {\"Raz\\u00f3n Social\": \"MEGA ASFALTOS\", \"Total\": 219541.65}, {\"Raz\\u00f3n Social\": \"DMW MEXICO DIVISION\", \"Total\": 215180.18999999997}, {\"Raz\\u00f3n Social\": \"FIMO CONSULTORIA AMBIENTAL\", \"Total\": 145096.66999999998}, {\"Raz\\u00f3n Social\": \"ANTONIA NU\\u00d1EZ HERNANDEZ\", \"Total\": 141132.86000000002}, {\"Raz\\u00f3n Social\": \"HUGO ELOY MARQUEZ DIOSDADO\", \"Total\": 139009.25}, {\"Raz\\u00f3n Social\": \"BEAVER TRAILERS DE MEXICO\", \"Total\": 125883.76999999999}, {\"Raz\\u00f3n Social\": \"PROAMBIENTE DEL BAJIO \", \"Total\": 118805.47}, {\"Raz\\u00f3n Social\": \"VERDURA VERDE DE SANTIAGO\", \"Total\": 113049.71}, {\"Raz\\u00f3n Social\": \"AGROCENTRO BAJIO \", \"Total\": 111736.16}, {\"Raz\\u00f3n Social\": \"EMULSIONES Y PAVIMENTOS DE SINALOA \", \"Total\": 102273.44}, {\"Raz\\u00f3n Social\": \"BIANCA ELIZABETH HERRERA BONILLA\", \"Total\": 94318.54}, {\"Raz\\u00f3n Social\": \"INTERCONTINENTAL IMPORT EXPORT \", \"Total\": 94155.39}]}}, {\"mode\": \"vega-lite\"});\n",
              "</script>"
            ],
            "text/plain": [
              "alt.LayerChart(...)"
            ]
          },
          "execution_count": 89,
          "metadata": {},
          "output_type": "execute_result"
        }
      ],
      "source": [
        "grafica_1 = alt.Chart(clientes_venta_sorting).encode(\n",
        "    y = alt.X('Razón Social:O', title = \"Clientes\"),\n",
        "    x = alt.Y('Total', title = \"Ventas Totales\")\n",
        ").properties(\n",
        "    width = 350\n",
        "    \n",
        ")\n",
        "grafica_1.mark_bar() + grafica_1.mark_text(align =  'left', dx = 0)"
      ]
    },
    {
      "cell_type": "markdown",
      "id": "63cd1deb",
      "metadata": {},
      "source": [
        "### Ventas por año.\n"
      ]
    },
    {
      "cell_type": "markdown",
      "id": "01368b82",
      "metadata": {},
      "source": [
        "Agrupamos las ventas por años para poder ver cuanto porcentaje y que tanto se ha vendido en cada año."
      ]
    },
    {
      "cell_type": "code",
      "execution_count": 90,
      "id": "c5573275",
      "metadata": {},
      "outputs": [
        {
          "data": {
            "text/html": [
              "<div>\n",
              "<style scoped>\n",
              "    .dataframe tbody tr th:only-of-type {\n",
              "        vertical-align: middle;\n",
              "    }\n",
              "\n",
              "    .dataframe tbody tr th {\n",
              "        vertical-align: top;\n",
              "    }\n",
              "\n",
              "    .dataframe thead th {\n",
              "        text-align: right;\n",
              "    }\n",
              "</style>\n",
              "<table border=\"1\" class=\"dataframe\">\n",
              "  <thead>\n",
              "    <tr style=\"text-align: right;\">\n",
              "      <th></th>\n",
              "      <th>Fecha</th>\n",
              "      <th>Total</th>\n",
              "    </tr>\n",
              "  </thead>\n",
              "  <tbody>\n",
              "    <tr>\n",
              "      <th>0</th>\n",
              "      <td>2020</td>\n",
              "      <td>4729251.56</td>\n",
              "    </tr>\n",
              "    <tr>\n",
              "      <th>1</th>\n",
              "      <td>2021</td>\n",
              "      <td>7445951.39</td>\n",
              "    </tr>\n",
              "    <tr>\n",
              "      <th>2</th>\n",
              "      <td>2022</td>\n",
              "      <td>7846298.04</td>\n",
              "    </tr>\n",
              "    <tr>\n",
              "      <th>3</th>\n",
              "      <td>2023</td>\n",
              "      <td>8563507.47</td>\n",
              "    </tr>\n",
              "  </tbody>\n",
              "</table>\n",
              "</div>"
            ],
            "text/plain": [
              "   Fecha       Total\n",
              "0   2020  4729251.56\n",
              "1   2021  7445951.39\n",
              "2   2022  7846298.04\n",
              "3   2023  8563507.47"
            ]
          },
          "execution_count": 90,
          "metadata": {},
          "output_type": "execute_result"
        }
      ],
      "source": [
        "ventas_anuales = data_mxn.groupby(data_mxn.Fecha.dt.year)['Total'].sum().reset_index()\n",
        "ventas_anuales"
      ]
    },
    {
      "cell_type": "markdown",
      "id": "4b0a69a9",
      "metadata": {},
      "source": [
        "### Crecimiento\n"
      ]
    },
    {
      "cell_type": "markdown",
      "id": "5c67f6cb",
      "metadata": {},
      "source": [
        "Seleccionamos el priner y el ultimo ewlemento de ventas_anuales para obtener el crecimiento total de la \n",
        "empresa durante los 4 años."
      ]
    },
    {
      "cell_type": "code",
      "execution_count": 91,
      "id": "dbaa282e",
      "metadata": {},
      "outputs": [
        {
          "data": {
            "text/plain": [
              "81.07532156737295"
            ]
          },
          "execution_count": 91,
          "metadata": {},
          "output_type": "execute_result"
        }
      ],
      "source": [
        "pElemento = ventas_anuales.Total.iloc[0]\n",
        "uElemento = ventas_anuales.Total.iloc[-1]\n",
        "\n",
        "crecimiento_total = ((uElemento - pElemento) / pElemento ) * 100\n",
        "crecimiento_total"
      ]
    },
    {
      "cell_type": "markdown",
      "id": "cddbd2dc",
      "metadata": {},
      "source": [
        "Para una mejor visualización obtenemos la grafica, la generamos con altair con una mark_line."
      ]
    },
    {
      "cell_type": "code",
      "execution_count": 92,
      "id": "9b34e5f0",
      "metadata": {},
      "outputs": [
        {
          "data": {
            "text/html": [
              "\n",
              "<style>\n",
              "  #altair-viz-d2a0c4ab04e148dea98f96e53ac4bdcd.vega-embed {\n",
              "    width: 100%;\n",
              "    display: flex;\n",
              "  }\n",
              "\n",
              "  #altair-viz-d2a0c4ab04e148dea98f96e53ac4bdcd.vega-embed details,\n",
              "  #altair-viz-d2a0c4ab04e148dea98f96e53ac4bdcd.vega-embed details summary {\n",
              "    position: relative;\n",
              "  }\n",
              "</style>\n",
              "<div id=\"altair-viz-d2a0c4ab04e148dea98f96e53ac4bdcd\"></div>\n",
              "<script type=\"text/javascript\">\n",
              "  var VEGA_DEBUG = (typeof VEGA_DEBUG == \"undefined\") ? {} : VEGA_DEBUG;\n",
              "  (function(spec, embedOpt){\n",
              "    let outputDiv = document.currentScript.previousElementSibling;\n",
              "    if (outputDiv.id !== \"altair-viz-d2a0c4ab04e148dea98f96e53ac4bdcd\") {\n",
              "      outputDiv = document.getElementById(\"altair-viz-d2a0c4ab04e148dea98f96e53ac4bdcd\");\n",
              "    }\n",
              "    const paths = {\n",
              "      \"vega\": \"https://cdn.jsdelivr.net/npm/vega@5?noext\",\n",
              "      \"vega-lib\": \"https://cdn.jsdelivr.net/npm/vega-lib?noext\",\n",
              "      \"vega-lite\": \"https://cdn.jsdelivr.net/npm/vega-lite@5.15.1?noext\",\n",
              "      \"vega-embed\": \"https://cdn.jsdelivr.net/npm/vega-embed@6?noext\",\n",
              "    };\n",
              "\n",
              "    function maybeLoadScript(lib, version) {\n",
              "      var key = `${lib.replace(\"-\", \"\")}_version`;\n",
              "      return (VEGA_DEBUG[key] == version) ?\n",
              "        Promise.resolve(paths[lib]) :\n",
              "        new Promise(function(resolve, reject) {\n",
              "          var s = document.createElement('script');\n",
              "          document.getElementsByTagName(\"head\")[0].appendChild(s);\n",
              "          s.async = true;\n",
              "          s.onload = () => {\n",
              "            VEGA_DEBUG[key] = version;\n",
              "            return resolve(paths[lib]);\n",
              "          };\n",
              "          s.onerror = () => reject(`Error loading script: ${paths[lib]}`);\n",
              "          s.src = paths[lib];\n",
              "        });\n",
              "    }\n",
              "\n",
              "    function showError(err) {\n",
              "      outputDiv.innerHTML = `<div class=\"error\" style=\"color:red;\">${err}</div>`;\n",
              "      throw err;\n",
              "    }\n",
              "\n",
              "    function displayChart(vegaEmbed) {\n",
              "      vegaEmbed(outputDiv, spec, embedOpt)\n",
              "        .catch(err => showError(`Javascript Error: ${err.message}<br>This usually means there's a typo in your chart specification. See the javascript console for the full traceback.`));\n",
              "    }\n",
              "\n",
              "    if(typeof define === \"function\" && define.amd) {\n",
              "      requirejs.config({paths});\n",
              "      require([\"vega-embed\"], displayChart, err => showError(`Error loading script: ${err.message}`));\n",
              "    } else {\n",
              "      maybeLoadScript(\"vega\", \"5\")\n",
              "        .then(() => maybeLoadScript(\"vega-lite\", \"5.15.1\"))\n",
              "        .then(() => maybeLoadScript(\"vega-embed\", \"6\"))\n",
              "        .catch(showError)\n",
              "        .then(() => displayChart(vegaEmbed));\n",
              "    }\n",
              "  })({\"config\": {\"view\": {\"continuousWidth\": 300, \"continuousHeight\": 300}}, \"data\": {\"name\": \"data-7e7d76d35a61797a195f4bd18398c280\"}, \"mark\": {\"type\": \"line\", \"color\": \"#d62728\", \"point\": {\"color\": \"#d62728\", \"fill\": \"white\", \"filled\": false}}, \"encoding\": {\"x\": {\"field\": \"Fecha\", \"scale\": {\"zero\": false}, \"type\": \"nominal\"}, \"y\": {\"field\": \"Total\", \"scale\": {\"zero\": false}, \"type\": \"quantitative\"}}, \"height\": 200, \"width\": 400, \"$schema\": \"https://vega.github.io/schema/vega-lite/v5.15.1.json\", \"datasets\": {\"data-7e7d76d35a61797a195f4bd18398c280\": [{\"Fecha\": 2020, \"Total\": 4729251.56}, {\"Fecha\": 2021, \"Total\": 7445951.39}, {\"Fecha\": 2022, \"Total\": 7846298.04}, {\"Fecha\": 2023, \"Total\": 8563507.47}]}}, {\"mode\": \"vega-lite\"});\n",
              "</script>"
            ],
            "text/plain": [
              "alt.Chart(...)"
            ]
          },
          "metadata": {},
          "output_type": "display_data"
        }
      ],
      "source": [
        "grafica_2 = alt.Chart(ventas_anuales).mark_line(point = alt.OverlayMarkDef(filled = False, fill = \"white\", color = \"#d62728\"), color = \"#d62728\").encode(\n",
        "    x = alt.X(\"Fecha:N\").scale(zero = False),\n",
        "    y = alt.Y(\"Total:Q\").scale(zero = False),\n",
        ").properties(\n",
        "    width = 400,\n",
        "    height = 200\n",
        ")\n",
        "display(grafica_2)"
      ]
    },
    {
      "cell_type": "markdown",
      "id": "b071e412",
      "metadata": {},
      "source": [
        "Tambien nos gustaria obtener el contraste de los meses durante el año y como se ha desarrollado, \n",
        "cual es el mes en que más generamos o si hay una tendencia sobre el mes y el consumo de los clientes."
      ]
    },
    {
      "cell_type": "code",
      "execution_count": 93,
      "id": "c664134a",
      "metadata": {},
      "outputs": [],
      "source": [
        "contraste_mensual = data_mxn.groupby(data_mxn.Fecha.dt.to_period('M'))['Total'].sum().reset_index()\n",
        "contraste_mensual = contraste_mensual.iloc[:-2]\n",
        "contraste_mensual['Fecha'] = contraste_mensual['Fecha'].apply(lambda x: x.to_timestamp())\n",
        "contraste_mensual['Fecha'] = pd.to_datetime(contraste_mensual['Fecha'], format='%Y-%m')"
      ]
    },
    {
      "cell_type": "code",
      "execution_count": 94,
      "id": "e85015e2",
      "metadata": {},
      "outputs": [
        {
          "data": {
            "text/html": [
              "\n",
              "<style>\n",
              "  #altair-viz-51eeacc8332d4305966657b5c743f355.vega-embed {\n",
              "    width: 100%;\n",
              "    display: flex;\n",
              "  }\n",
              "\n",
              "  #altair-viz-51eeacc8332d4305966657b5c743f355.vega-embed details,\n",
              "  #altair-viz-51eeacc8332d4305966657b5c743f355.vega-embed details summary {\n",
              "    position: relative;\n",
              "  }\n",
              "</style>\n",
              "<div id=\"altair-viz-51eeacc8332d4305966657b5c743f355\"></div>\n",
              "<script type=\"text/javascript\">\n",
              "  var VEGA_DEBUG = (typeof VEGA_DEBUG == \"undefined\") ? {} : VEGA_DEBUG;\n",
              "  (function(spec, embedOpt){\n",
              "    let outputDiv = document.currentScript.previousElementSibling;\n",
              "    if (outputDiv.id !== \"altair-viz-51eeacc8332d4305966657b5c743f355\") {\n",
              "      outputDiv = document.getElementById(\"altair-viz-51eeacc8332d4305966657b5c743f355\");\n",
              "    }\n",
              "    const paths = {\n",
              "      \"vega\": \"https://cdn.jsdelivr.net/npm/vega@5?noext\",\n",
              "      \"vega-lib\": \"https://cdn.jsdelivr.net/npm/vega-lib?noext\",\n",
              "      \"vega-lite\": \"https://cdn.jsdelivr.net/npm/vega-lite@5.15.1?noext\",\n",
              "      \"vega-embed\": \"https://cdn.jsdelivr.net/npm/vega-embed@6?noext\",\n",
              "    };\n",
              "\n",
              "    function maybeLoadScript(lib, version) {\n",
              "      var key = `${lib.replace(\"-\", \"\")}_version`;\n",
              "      return (VEGA_DEBUG[key] == version) ?\n",
              "        Promise.resolve(paths[lib]) :\n",
              "        new Promise(function(resolve, reject) {\n",
              "          var s = document.createElement('script');\n",
              "          document.getElementsByTagName(\"head\")[0].appendChild(s);\n",
              "          s.async = true;\n",
              "          s.onload = () => {\n",
              "            VEGA_DEBUG[key] = version;\n",
              "            return resolve(paths[lib]);\n",
              "          };\n",
              "          s.onerror = () => reject(`Error loading script: ${paths[lib]}`);\n",
              "          s.src = paths[lib];\n",
              "        });\n",
              "    }\n",
              "\n",
              "    function showError(err) {\n",
              "      outputDiv.innerHTML = `<div class=\"error\" style=\"color:red;\">${err}</div>`;\n",
              "      throw err;\n",
              "    }\n",
              "\n",
              "    function displayChart(vegaEmbed) {\n",
              "      vegaEmbed(outputDiv, spec, embedOpt)\n",
              "        .catch(err => showError(`Javascript Error: ${err.message}<br>This usually means there's a typo in your chart specification. See the javascript console for the full traceback.`));\n",
              "    }\n",
              "\n",
              "    if(typeof define === \"function\" && define.amd) {\n",
              "      requirejs.config({paths});\n",
              "      require([\"vega-embed\"], displayChart, err => showError(`Error loading script: ${err.message}`));\n",
              "    } else {\n",
              "      maybeLoadScript(\"vega\", \"5\")\n",
              "        .then(() => maybeLoadScript(\"vega-lite\", \"5.15.1\"))\n",
              "        .then(() => maybeLoadScript(\"vega-embed\", \"6\"))\n",
              "        .catch(showError)\n",
              "        .then(() => displayChart(vegaEmbed));\n",
              "    }\n",
              "  })({\"config\": {\"view\": {\"continuousWidth\": 300, \"continuousHeight\": 300}}, \"layer\": [{\"mark\": {\"type\": \"circle\"}, \"encoding\": {\"color\": {\"field\": \"A\\u00f1o\", \"type\": \"nominal\"}, \"opacity\": {\"value\": 0}, \"x\": {\"field\": \"Mes\", \"title\": \"Mes\", \"type\": \"ordinal\"}, \"y\": {\"field\": \"Total\", \"title\": \"Total\", \"type\": \"quantitative\"}}, \"name\": \"view_4\"}, {\"mark\": {\"type\": \"line\", \"point\": {\"fill\": \"white\", \"filled\": false}}, \"encoding\": {\"color\": {\"field\": \"A\\u00f1o\", \"type\": \"nominal\"}, \"size\": {\"condition\": {\"test\": {\"not\": {\"param\": \"param_4\"}}, \"value\": 1}, \"value\": 3}, \"x\": {\"field\": \"Mes\", \"title\": \"Mes\", \"type\": \"ordinal\"}, \"y\": {\"field\": \"Total\", \"title\": \"Total\", \"type\": \"quantitative\"}}}], \"data\": {\"name\": \"data-8ca36b96b1ec16c0e5f2d84db0c599d0\"}, \"params\": [{\"name\": \"param_4\", \"select\": {\"type\": \"point\", \"fields\": [\"A\\u00f1o\"], \"nearest\": true, \"on\": \"mouseover\"}, \"views\": [\"view_4\"]}], \"width\": 600, \"$schema\": \"https://vega.github.io/schema/vega-lite/v5.15.1.json\", \"datasets\": {\"data-8ca36b96b1ec16c0e5f2d84db0c599d0\": [{\"Fecha\": \"2020-01-01T00:00:00\", \"Total\": 404468.88, \"A\\u00f1o\": 2020, \"Mes\": 1}, {\"Fecha\": \"2020-02-01T00:00:00\", \"Total\": 389320.56, \"A\\u00f1o\": 2020, \"Mes\": 2}, {\"Fecha\": \"2020-03-01T00:00:00\", \"Total\": 333543.19, \"A\\u00f1o\": 2020, \"Mes\": 3}, {\"Fecha\": \"2020-04-01T00:00:00\", \"Total\": 695859.32, \"A\\u00f1o\": 2020, \"Mes\": 4}, {\"Fecha\": \"2020-05-01T00:00:00\", \"Total\": 236260.11, \"A\\u00f1o\": 2020, \"Mes\": 5}, {\"Fecha\": \"2020-06-01T00:00:00\", \"Total\": 664254.86, \"A\\u00f1o\": 2020, \"Mes\": 6}, {\"Fecha\": \"2020-07-01T00:00:00\", \"Total\": 323583.13, \"A\\u00f1o\": 2020, \"Mes\": 7}, {\"Fecha\": \"2020-08-01T00:00:00\", \"Total\": 199473.2, \"A\\u00f1o\": 2020, \"Mes\": 8}, {\"Fecha\": \"2020-09-01T00:00:00\", \"Total\": 309190.82, \"A\\u00f1o\": 2020, \"Mes\": 9}, {\"Fecha\": \"2020-10-01T00:00:00\", \"Total\": 802734.81, \"A\\u00f1o\": 2020, \"Mes\": 10}, {\"Fecha\": \"2020-11-01T00:00:00\", \"Total\": 144654.45, \"A\\u00f1o\": 2020, \"Mes\": 11}, {\"Fecha\": \"2020-12-01T00:00:00\", \"Total\": 225908.23, \"A\\u00f1o\": 2020, \"Mes\": 12}, {\"Fecha\": \"2021-01-01T00:00:00\", \"Total\": 723627.93, \"A\\u00f1o\": 2021, \"Mes\": 1}, {\"Fecha\": \"2021-02-01T00:00:00\", \"Total\": 191111.11000000002, \"A\\u00f1o\": 2021, \"Mes\": 2}, {\"Fecha\": \"2021-03-01T00:00:00\", \"Total\": 711067.19, \"A\\u00f1o\": 2021, \"Mes\": 3}, {\"Fecha\": \"2021-04-01T00:00:00\", \"Total\": 399344.95, \"A\\u00f1o\": 2021, \"Mes\": 4}, {\"Fecha\": \"2021-05-01T00:00:00\", \"Total\": 796612.9, \"A\\u00f1o\": 2021, \"Mes\": 5}, {\"Fecha\": \"2021-06-01T00:00:00\", \"Total\": 776933.5, \"A\\u00f1o\": 2021, \"Mes\": 6}, {\"Fecha\": \"2021-07-01T00:00:00\", \"Total\": 479314.11, \"A\\u00f1o\": 2021, \"Mes\": 7}, {\"Fecha\": \"2021-08-01T00:00:00\", \"Total\": 1252787.48, \"A\\u00f1o\": 2021, \"Mes\": 8}, {\"Fecha\": \"2021-09-01T00:00:00\", \"Total\": 805548.96, \"A\\u00f1o\": 2021, \"Mes\": 9}, {\"Fecha\": \"2021-10-01T00:00:00\", \"Total\": 509502.14, \"A\\u00f1o\": 2021, \"Mes\": 10}, {\"Fecha\": \"2021-11-01T00:00:00\", \"Total\": 216130.7, \"A\\u00f1o\": 2021, \"Mes\": 11}, {\"Fecha\": \"2021-12-01T00:00:00\", \"Total\": 583970.42, \"A\\u00f1o\": 2021, \"Mes\": 12}, {\"Fecha\": \"2022-01-01T00:00:00\", \"Total\": 940469.92, \"A\\u00f1o\": 2022, \"Mes\": 1}, {\"Fecha\": \"2022-02-01T00:00:00\", \"Total\": 883870.77, \"A\\u00f1o\": 2022, \"Mes\": 2}, {\"Fecha\": \"2022-03-01T00:00:00\", \"Total\": 717079.12, \"A\\u00f1o\": 2022, \"Mes\": 3}, {\"Fecha\": \"2022-04-01T00:00:00\", \"Total\": 489341.0, \"A\\u00f1o\": 2022, \"Mes\": 4}, {\"Fecha\": \"2022-05-01T00:00:00\", \"Total\": 828676.72, \"A\\u00f1o\": 2022, \"Mes\": 5}, {\"Fecha\": \"2022-06-01T00:00:00\", \"Total\": 371655.32, \"A\\u00f1o\": 2022, \"Mes\": 6}, {\"Fecha\": \"2022-07-01T00:00:00\", \"Total\": 432785.57, \"A\\u00f1o\": 2022, \"Mes\": 7}, {\"Fecha\": \"2022-08-01T00:00:00\", \"Total\": 710436.54, \"A\\u00f1o\": 2022, \"Mes\": 8}, {\"Fecha\": \"2022-09-01T00:00:00\", \"Total\": 939533.83, \"A\\u00f1o\": 2022, \"Mes\": 9}, {\"Fecha\": \"2022-10-01T00:00:00\", \"Total\": 350364.38, \"A\\u00f1o\": 2022, \"Mes\": 10}, {\"Fecha\": \"2022-11-01T00:00:00\", \"Total\": 836118.6799999999, \"A\\u00f1o\": 2022, \"Mes\": 11}, {\"Fecha\": \"2022-12-01T00:00:00\", \"Total\": 345966.19, \"A\\u00f1o\": 2022, \"Mes\": 12}, {\"Fecha\": \"2023-01-01T00:00:00\", \"Total\": 615558.23, \"A\\u00f1o\": 2023, \"Mes\": 1}, {\"Fecha\": \"2023-02-01T00:00:00\", \"Total\": 345506.08, \"A\\u00f1o\": 2023, \"Mes\": 2}, {\"Fecha\": \"2023-03-01T00:00:00\", \"Total\": 3843939.65, \"A\\u00f1o\": 2023, \"Mes\": 3}, {\"Fecha\": \"2023-04-01T00:00:00\", \"Total\": 594234.71, \"A\\u00f1o\": 2023, \"Mes\": 4}, {\"Fecha\": \"2023-05-01T00:00:00\", \"Total\": 1142730.32, \"A\\u00f1o\": 2023, \"Mes\": 5}, {\"Fecha\": \"2023-06-01T00:00:00\", \"Total\": 351723.61, \"A\\u00f1o\": 2023, \"Mes\": 6}, {\"Fecha\": \"2023-07-01T00:00:00\", \"Total\": 184742.75, \"A\\u00f1o\": 2023, \"Mes\": 7}, {\"Fecha\": \"2023-08-01T00:00:00\", \"Total\": 344343.98, \"A\\u00f1o\": 2023, \"Mes\": 8}, {\"Fecha\": \"2023-09-01T00:00:00\", \"Total\": 280251.75, \"A\\u00f1o\": 2023, \"Mes\": 9}, {\"Fecha\": \"2023-10-01T00:00:00\", \"Total\": 334531.83, \"A\\u00f1o\": 2023, \"Mes\": 10}]}}, {\"mode\": \"vega-lite\"});\n",
              "</script>"
            ],
            "text/plain": [
              "alt.LayerChart(...)"
            ]
          },
          "execution_count": 94,
          "metadata": {},
          "output_type": "execute_result"
        }
      ],
      "source": [
        "contraste_mensual['Año'] = contraste_mensual['Fecha'].dt.year\n",
        "contraste_mensual['Mes'] = contraste_mensual['Fecha'].dt.month\n",
        "\n",
        "highlight = alt.selection_point(\n",
        "    on=\"mouseover\", fields=[\"Año\"], nearest=True\n",
        ")\n",
        "\n",
        "base = alt.Chart(contraste_mensual).encode(\n",
        "    x= alt.X('Mes:O', title='Mes'),\n",
        "    y= alt.Y('Total:Q', title='Total'),\n",
        "    color= alt.Color('Año:N')\n",
        ").properties(\n",
        "    width=600\n",
        ")\n",
        "points = base.mark_circle().encode(\n",
        "    opacity=alt.value(0)\n",
        ").add_params(\n",
        "    highlight\n",
        ").properties(\n",
        "    width=600\n",
        ")\n",
        "\n",
        "lines = base.mark_line( point=alt.OverlayMarkDef(filled=False, fill=\"white\")).encode(\n",
        "    size=alt.condition(~highlight, alt.value(1), alt.value(3))\n",
        ")\n",
        "points + lines"
      ]
    },
    {
      "cell_type": "markdown",
      "id": "7d8f52d5",
      "metadata": {},
      "source": [
        "Tambien agrupamos por fechas y años para realizar una grafica y datos dinamicos sobre fechas seleccionadas.\n"
      ]
    },
    {
      "cell_type": "code",
      "execution_count": 95,
      "id": "01cc49df",
      "metadata": {},
      "outputs": [
        {
          "data": {
            "text/plain": [
              "28585008.459999997"
            ]
          },
          "execution_count": 95,
          "metadata": {},
          "output_type": "execute_result"
        }
      ],
      "source": [
        "años_disponibles =  data_mxn['Fecha'].dt.year.unique()\n",
        "clientesprincipales_y  = data_mxn[['Fecha', 'Razón Social', 'Total']].reset_index(drop = True)\n",
        "\n",
        "clientesprincipales_y['Fecha'] = pd.to_datetime(clientesprincipales_y['Fecha'])\n",
        "clientesprincipales_y['Fecha'] = clientesprincipales_y['Fecha'].dt.year\n",
        "\n",
        "clientesprincipales_y = clientesprincipales_y.groupby(['Fecha', 'Razón Social'])['Total'].sum().reset_index()\n",
        "clientesprincipales_y = clientesprincipales_y.sort_values(by='Total', ascending=False)\n",
        "\n",
        "año_seleccionado = 2023\n",
        "datos_año_seleccionado = clientesprincipales_y[clientesprincipales_y['Fecha'] == año_seleccionado].head(3)\n",
        "\n",
        "total_facturacion = clientesprincipales_y.Total.sum()\n",
        "total_facturacion"
      ]
    },
    {
      "cell_type": "markdown",
      "id": "c736790a",
      "metadata": {},
      "source": [
        "Seleccionamos el periodo y creamos grupos para visualizarlos, obtenemos una tabla ademas de una grafica."
      ]
    },
    {
      "cell_type": "code",
      "execution_count": 96,
      "id": "6b859281",
      "metadata": {},
      "outputs": [],
      "source": [
        "\n",
        "año_inicio = 2022\n",
        "año_fin = 2023\n",
        "\n",
        "\n",
        "datos_años_seleccionados = clientesprincipales_y[(clientesprincipales_y['Fecha'] >= int(año_inicio)) & (clientesprincipales_y['Fecha'] <= int(año_fin))].sort_values(by ='Total', ascending= False)\n",
        "\n",
        "total_facturacion = clientesprincipales_y[(clientesprincipales_y['Fecha'] >= int(año_inicio)) & (clientesprincipales_y['Fecha'] <= int(año_fin))]\n",
        "total_facturacion = total_facturacion['Total'].sum()\n",
        "total_facturacion_del_periodo = clientesprincipales_y.Total.sum()\n",
        "\n",
        "\n",
        "datos_años_seleccionados['PorcentajeTotal_Facturacion'] = round((datos_años_seleccionados['Total']  / total_facturacion) *100,2)\n",
        "datos_años_seleccionados_table = datos_años_seleccionados.head()\n",
        "datos_años_seleccionados_table.columns = ['Año', 'Cliente', 'Total', 'Porcentaje Representativo en la Facturación Total']\n",
        "\n"
      ]
    },
    {
      "cell_type": "markdown",
      "id": "16e419fd",
      "metadata": {},
      "source": [
        "Se generan los grupos con los años seleccionados y los grupos que nos permiten visualizar los clientes principales de los años seleccionados, los clientes más frecuentes son con los qu enos moestrara la siguiente grafica y con la que se hara dinamica."
      ]
    },
    {
      "cell_type": "code",
      "execution_count": 97,
      "id": "589d982b",
      "metadata": {},
      "outputs": [],
      "source": [
        "total_facturacion = clientesprincipales_y[(clientesprincipales_y['Fecha'] >= int(año_inicio)) & (clientesprincipales_y['Fecha'] <= int(año_fin))]\n",
        "total_facturacion = total_facturacion['Total'].sum()\n",
        "total_facturacion_del_periodo = clientesprincipales_y.Total.sum()\n",
        "\n",
        "\n",
        "datos_años_seleccionados['PorcentajeTotal_Facturacion'] = round((datos_años_seleccionados['Total']  / total_facturacion) *100,2)\n",
        "datos_años_seleccionados_table = datos_años_seleccionados.head()\n",
        "datos_años_seleccionados_table.columns = ['Año', 'Cliente', 'Total', 'Porcentaje Representativo en la Facturación Total']\n",
        "datos_años_seleccionados_table = datos_años_seleccionados_table.to_html(index=False)\n",
        "\n",
        "\n",
        "grupo_clientes_principales = datos_años_seleccionados.groupby('Razón Social')['Total'].sum().reset_index()\n",
        "grupo_clientes_principales = grupo_clientes_principales.sort_values(by='Total', ascending=False)"
      ]
    },
    {
      "cell_type": "markdown",
      "id": "1a1088e5",
      "metadata": {},
      "source": [
        "En la grafica se muestra a la dertecha el cliente que más nos ha comprado y se puede modificar cambiando los valores de las variables año_inicio y año_fin.\n",
        "esto también modificara algunos detalles en el link de streamlit."
      ]
    },
    {
      "cell_type": "code",
      "execution_count": 98,
      "id": "49af61cb",
      "metadata": {},
      "outputs": [
        {
          "data": {
            "text/html": [
              "\n",
              "<style>\n",
              "  #altair-viz-639fda0e67c8427796fae7f04179bea9.vega-embed {\n",
              "    width: 100%;\n",
              "    display: flex;\n",
              "  }\n",
              "\n",
              "  #altair-viz-639fda0e67c8427796fae7f04179bea9.vega-embed details,\n",
              "  #altair-viz-639fda0e67c8427796fae7f04179bea9.vega-embed details summary {\n",
              "    position: relative;\n",
              "  }\n",
              "</style>\n",
              "<div id=\"altair-viz-639fda0e67c8427796fae7f04179bea9\"></div>\n",
              "<script type=\"text/javascript\">\n",
              "  var VEGA_DEBUG = (typeof VEGA_DEBUG == \"undefined\") ? {} : VEGA_DEBUG;\n",
              "  (function(spec, embedOpt){\n",
              "    let outputDiv = document.currentScript.previousElementSibling;\n",
              "    if (outputDiv.id !== \"altair-viz-639fda0e67c8427796fae7f04179bea9\") {\n",
              "      outputDiv = document.getElementById(\"altair-viz-639fda0e67c8427796fae7f04179bea9\");\n",
              "    }\n",
              "    const paths = {\n",
              "      \"vega\": \"https://cdn.jsdelivr.net/npm/vega@5?noext\",\n",
              "      \"vega-lib\": \"https://cdn.jsdelivr.net/npm/vega-lib?noext\",\n",
              "      \"vega-lite\": \"https://cdn.jsdelivr.net/npm/vega-lite@5.15.1?noext\",\n",
              "      \"vega-embed\": \"https://cdn.jsdelivr.net/npm/vega-embed@6?noext\",\n",
              "    };\n",
              "\n",
              "    function maybeLoadScript(lib, version) {\n",
              "      var key = `${lib.replace(\"-\", \"\")}_version`;\n",
              "      return (VEGA_DEBUG[key] == version) ?\n",
              "        Promise.resolve(paths[lib]) :\n",
              "        new Promise(function(resolve, reject) {\n",
              "          var s = document.createElement('script');\n",
              "          document.getElementsByTagName(\"head\")[0].appendChild(s);\n",
              "          s.async = true;\n",
              "          s.onload = () => {\n",
              "            VEGA_DEBUG[key] = version;\n",
              "            return resolve(paths[lib]);\n",
              "          };\n",
              "          s.onerror = () => reject(`Error loading script: ${paths[lib]}`);\n",
              "          s.src = paths[lib];\n",
              "        });\n",
              "    }\n",
              "\n",
              "    function showError(err) {\n",
              "      outputDiv.innerHTML = `<div class=\"error\" style=\"color:red;\">${err}</div>`;\n",
              "      throw err;\n",
              "    }\n",
              "\n",
              "    function displayChart(vegaEmbed) {\n",
              "      vegaEmbed(outputDiv, spec, embedOpt)\n",
              "        .catch(err => showError(`Javascript Error: ${err.message}<br>This usually means there's a typo in your chart specification. See the javascript console for the full traceback.`));\n",
              "    }\n",
              "\n",
              "    if(typeof define === \"function\" && define.amd) {\n",
              "      requirejs.config({paths});\n",
              "      require([\"vega-embed\"], displayChart, err => showError(`Error loading script: ${err.message}`));\n",
              "    } else {\n",
              "      maybeLoadScript(\"vega\", \"5\")\n",
              "        .then(() => maybeLoadScript(\"vega-lite\", \"5.15.1\"))\n",
              "        .then(() => maybeLoadScript(\"vega-embed\", \"6\"))\n",
              "        .catch(showError)\n",
              "        .then(() => displayChart(vegaEmbed));\n",
              "    }\n",
              "  })({\"config\": {\"view\": {\"continuousWidth\": 300, \"continuousHeight\": 300}}, \"layer\": [{\"mark\": {\"type\": \"bar\"}, \"encoding\": {\"x\": {\"field\": \"Total\", \"title\": \"Ventas Totales\", \"type\": \"quantitative\"}, \"y\": {\"field\": \"Raz\\u00f3n Social\", \"title\": \"Clientes\", \"type\": \"ordinal\"}}}, {\"mark\": {\"type\": \"text\", \"align\": \"left\", \"dx\": 0}, \"encoding\": {\"x\": {\"field\": \"Total\", \"title\": \"Ventas Totales\", \"type\": \"quantitative\"}, \"y\": {\"field\": \"Raz\\u00f3n Social\", \"title\": \"Clientes\", \"type\": \"ordinal\"}}}], \"data\": {\"name\": \"data-f0534ecac38a12e342a73ce7174cef10\"}, \"width\": 700, \"$schema\": \"https://vega.github.io/schema/vega-lite/v5.15.1.json\", \"datasets\": {\"data-f0534ecac38a12e342a73ce7174cef10\": [{\"Raz\\u00f3n Social\": \"INMOBILIARIA LLUNA\", \"Total\": 3704479.16}, {\"Raz\\u00f3n Social\": \"SAGOT\", \"Total\": 2854666.66}, {\"Raz\\u00f3n Social\": \"FUJITA CORPORATION\", \"Total\": 1000531.37}, {\"Raz\\u00f3n Social\": \"GERARDO ARREDONDO HERNANDEZ\", \"Total\": 805138.2699999999}, {\"Raz\\u00f3n Social\": \"PRODUCTOS FRUGO\", \"Total\": 803227.04}, {\"Raz\\u00f3n Social\": \"ESCUELA PREPARATORIA LUIS SPOTA\", \"Total\": 724061.3899999999}, {\"Raz\\u00f3n Social\": \"INSTITUTO DEL BAJIO\", \"Total\": 681069.89}, {\"Raz\\u00f3n Social\": \"INSTITUTO DE INNOVACION\", \"Total\": 360000.0}, {\"Raz\\u00f3n Social\": \"FRUGALMEX\", \"Total\": 269143.21}, {\"Raz\\u00f3n Social\": \"IQFRESH TRANSPORT\", \"Total\": 256151.74000000002}, {\"Raz\\u00f3n Social\": \"DMW MEXICO DIVISION\", \"Total\": 215180.18999999997}, {\"Raz\\u00f3n Social\": \"MIICA\", \"Total\": 212159.81}, {\"Raz\\u00f3n Social\": \"REDWINGS\", \"Total\": 209239.65}, {\"Raz\\u00f3n Social\": \"DISTRIBUIDORA DE MATERIALES TRIANGULO\", \"Total\": 158867.76}, {\"Raz\\u00f3n Social\": \"VITABAJIO\", \"Total\": 155749.93}, {\"Raz\\u00f3n Social\": \"TSO Y ASOCIADOS\", \"Total\": 136013.72}, {\"Raz\\u00f3n Social\": \"ASOCIACION EDUCATIVA DE SALAMANCA\", \"Total\": 133658.49}, {\"Raz\\u00f3n Social\": \"MEGA ASFALTOS\", \"Total\": 122498.32}, {\"Raz\\u00f3n Social\": \"VERDURA VERDE DE SANTIAGO\", \"Total\": 113049.71}, {\"Raz\\u00f3n Social\": \"ESTRATEGIAS FINANCIERAS Y DE PROTECCION PATRIMONIAL UNIR\", \"Total\": 109135.72}]}}, {\"mode\": \"vega-lite\"});\n",
              "</script>"
            ],
            "text/plain": [
              "alt.LayerChart(...)"
            ]
          },
          "execution_count": 98,
          "metadata": {},
          "output_type": "execute_result"
        }
      ],
      "source": [
        "\n",
        "grafica_2 = alt.Chart(grupo_clientes_principales.head(20)).encode(\n",
        "    y = alt.X('Razón Social:O', title = \"Clientes\"),\n",
        "    x = alt.Y('Total', title = \"Ventas Totales\")\n",
        ").properties(\n",
        "    width = 700\n",
        ")\n",
        "grafica_2 = grafica_2.mark_bar() + grafica_2.mark_text(align =  'left', dx = 0)\n",
        "grafica_2"
      ]
    },
    {
      "cell_type": "markdown",
      "id": "20bd3012",
      "metadata": {},
      "source": [
        "En el analisis se usaron las librerias:\n",
        "\n",
        "\n",
        "altair==5.1.2\n",
        "ipython==8.16.1\n",
        "numpy==1.26.1\n",
        "pandas==2.1.3\n",
        "streamlit==1.28.1\n",
        "\n",
        "para cada libreria las versiones son las indicadas.\n"
      ]
    }
  ],
  "metadata": {
    "kernelspec": {
      "display_name": "Python 3 (ipykernel)",
      "language": "python",
      "name": "python3"
    },
    "language_info": {
      "codemirror_mode": {
        "name": "ipython",
        "version": 3
      },
      "file_extension": ".py",
      "mimetype": "text/x-python",
      "name": "python",
      "nbconvert_exporter": "python",
      "pygments_lexer": "ipython3",
      "version": "3.10.12"
    }
  },
  "nbformat": 4,
  "nbformat_minor": 5
}
